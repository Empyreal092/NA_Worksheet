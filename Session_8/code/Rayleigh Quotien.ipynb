{
 "cells": [
  {
   "cell_type": "code",
   "execution_count": 34,
   "id": "be364d0d-20e3-4d95-95f4-5104fb0f2df9",
   "metadata": {},
   "outputs": [],
   "source": [
    "import numpy as np\n",
    "import matplotlib"
   ]
  },
  {
   "cell_type": "code",
   "execution_count": 35,
   "id": "ebe76c27-76e7-4424-8923-36db7753a5d3",
   "metadata": {},
   "outputs": [],
   "source": [
    "A = np.random.normal(0, 1, (10,10))\n",
    "v0 = np.random.normal(0, 1, 10)\n",
    "\n",
    "A = A+A.T"
   ]
  },
  {
   "cell_type": "code",
   "execution_count": 36,
   "id": "9cda0128-1eb9-4f91-ac33-cfe1cd89fc29",
   "metadata": {},
   "outputs": [
    {
     "name": "stdout",
     "output_type": "stream",
     "text": [
      "[[ 0.5546711   0.25741367  0.60334369  0.76426536 -0.67431882 -1.23026966\n",
      "   0.43423903  2.8663285  -0.47586665  1.5949422 ]\n",
      " [ 0.25741367 -3.90265393 -1.4837838  -2.60772309  3.71289022 -0.53561384\n",
      "   0.26749774 -1.01741184  0.72648493 -0.70795655]\n",
      " [ 0.60334369 -1.4837838  -0.24809823  1.04694915  3.11157324 -0.83335823\n",
      "   0.32907419  2.93065036 -1.01620014  1.46468325]\n",
      " [ 0.76426536 -2.60772309  1.04694915 -2.83270934  0.57610375  1.33910602\n",
      "   1.07666825 -0.66767774  1.89548546  0.62239372]\n",
      " [-0.67431882  3.71289022  3.11157324  0.57610375 -0.50124701  1.10708825\n",
      "   0.59731916 -0.53008094  0.86183642 -0.64533252]\n",
      " [-1.23026966 -0.53561384 -0.83335823  1.33910602  1.10708825 -3.00315633\n",
      "   0.43997043 -1.8479824   0.01931239 -1.56661256]\n",
      " [ 0.43423903  0.26749774  0.32907419  1.07666825  0.59731916  0.43997043\n",
      "   0.6048508   3.31106396 -0.21875407  1.83823981]\n",
      " [ 2.8663285  -1.01741184  2.93065036 -0.66767774 -0.53008094 -1.8479824\n",
      "   3.31106396  0.26270573  0.51826515 -0.16508376]\n",
      " [-0.47586665  0.72648493 -1.01620014  1.89548546  0.86183642  0.01931239\n",
      "  -0.21875407  0.51826515 -4.77106763  0.71024072]\n",
      " [ 1.5949422  -0.70795655  1.46468325  0.62239372 -0.64533252 -1.56661256\n",
      "   1.83823981 -0.16508376  0.71024072 -1.52745493]]\n"
     ]
    }
   ],
   "source": [
    "print(A)"
   ]
  },
  {
   "cell_type": "code",
   "execution_count": 42,
   "id": "66a442ec-63ed-4f85-9dbe-af01808b647e",
   "metadata": {},
   "outputs": [],
   "source": [
    "[l,VV]=np.linalg.eig(A)"
   ]
  },
  {
   "cell_type": "code",
   "execution_count": null,
   "id": "2e657640-6891-4ebe-8cc9-5c471d20266b",
   "metadata": {},
   "outputs": [],
   "source": []
  },
  {
   "cell_type": "code",
   "execution_count": 47,
   "id": "4768e8f5-67a8-4315-998f-36e58a19107c",
   "metadata": {},
   "outputs": [],
   "source": [
    "v_tru = VV[:,0]"
   ]
  },
  {
   "cell_type": "code",
   "execution_count": 48,
   "id": "4b78f2d6-ba02-4813-b95a-f36b2ac08179",
   "metadata": {},
   "outputs": [
    {
     "data": {
      "text/plain": [
       "array([7.23813322, 7.23813322, 7.23813322, 7.23813322, 7.23813322,\n",
       "       7.23813322, 7.23813322, 7.23813322, 7.23813322, 7.23813322])"
      ]
     },
     "execution_count": 48,
     "metadata": {},
     "output_type": "execute_result"
    }
   ],
   "source": [
    "A@v_tru/v_tru"
   ]
  },
  {
   "cell_type": "code",
   "execution_count": 70,
   "id": "572bad55-10ff-41bd-bc08-9b6818b67734",
   "metadata": {},
   "outputs": [],
   "source": [
    "def ray_quo(A,v):\n",
    "    return v.T@A@v"
   ]
  },
  {
   "cell_type": "code",
   "execution_count": 85,
   "id": "6d8c36ab-f17d-4ab0-916f-8a2ee42092cf",
   "metadata": {},
   "outputs": [],
   "source": [
    "lamb_iter_ary = np.empty(8)\n",
    "verr_iter_ary = np.ones(8)\n",
    "\n",
    "v_iter = v0\n",
    "# lamb_iter = ray_quo(A,v0)\n",
    "lamb_iter = 5\n",
    "\n",
    "for i in range(8):\n",
    "    lamb_iter_ary[i] = lamb_iter\n",
    "    verr = min(np.sqrt((v_iter-v_tru).T@(v_iter-v_tru)),np.sqrt((-v_iter-v_tru).T@(-v_iter-v_tru)))\n",
    "    verr_iter_ary[i] = verr\n",
    "    # print(np.sqrt((v_iter-v_tru).T@(v_iter-v_tru)))\n",
    "    \n",
    "    v_iter = np.linalg.solve((A-lamb_iter*np.eye(10)),v_iter )\n",
    "    v_iter = v_iter/np.sqrt(v_iter.T@v_iter)\n",
    "    lamb_iter = ray_quo(A,v_iter)"
   ]
  },
  {
   "cell_type": "code",
   "execution_count": 86,
   "id": "6e5a00ab-1558-4c9f-8b24-245fbc64cf5e",
   "metadata": {},
   "outputs": [
    {
     "data": {
      "text/plain": [
       "array([5.        , 5.2487159 , 6.9181105 , 7.23729494, 7.23813322,\n",
       "       7.23813322, 7.23813322, 7.23813322])"
      ]
     },
     "execution_count": 86,
     "metadata": {},
     "output_type": "execute_result"
    }
   ],
   "source": [
    "lamb_iter_ary"
   ]
  },
  {
   "cell_type": "code",
   "execution_count": 87,
   "id": "336a6f4b-f8fe-4779-8623-2f66ef4629c8",
   "metadata": {},
   "outputs": [
    {
     "data": {
      "text/plain": [
       "array([2.25683009e+00, 5.16670289e-01, 2.15768552e-01, 1.17438074e-02,\n",
       "       1.82597664e-06, 5.97435970e-16, 5.40009833e-16, 5.32616610e-16])"
      ]
     },
     "execution_count": 87,
     "metadata": {},
     "output_type": "execute_result"
    }
   ],
   "source": [
    "verr_iter_ary"
   ]
  }
 ],
 "metadata": {
  "kernelspec": {
   "display_name": "Python 3 (ipykernel)",
   "language": "python",
   "name": "python3"
  },
  "language_info": {
   "codemirror_mode": {
    "name": "ipython",
    "version": 3
   },
   "file_extension": ".py",
   "mimetype": "text/x-python",
   "name": "python",
   "nbconvert_exporter": "python",
   "pygments_lexer": "ipython3",
   "version": "3.10.6"
  }
 },
 "nbformat": 4,
 "nbformat_minor": 5
}
