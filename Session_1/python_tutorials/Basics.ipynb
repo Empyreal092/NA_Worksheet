{
 "cells": [
  {
   "cell_type": "markdown",
   "id": "59d5a4cd-a025-46b9-a5a9-b7801f3e93d6",
   "metadata": {},
   "source": [
    "# Some python basics\n",
    "For those who have coded before\n",
    "\n",
    "## Some online resources:\n",
    "* [Python documentation](https://docs.python.org/3.11/tutorial/index.html)\n",
    "* [JupyterLab documentation](https://jupyterlab.readthedocs.io/en/stable/getting_started/overview.html)\n",
    "* [PEP 8 – Style Guide for Python Code](https://peps.python.org/pep-0008/)"
   ]
  },
  {
   "cell_type": "markdown",
   "id": "30ef3c0e-c020-45d8-8f3f-ab37a0e9b018",
   "metadata": {},
   "source": [
    "## Manipulating strings"
   ]
  },
  {
   "cell_type": "code",
   "execution_count": 1,
   "id": "e8204459-96fb-496e-8455-fca4ba87b221",
   "metadata": {},
   "outputs": [
    {
     "name": "stdout",
     "output_type": "stream",
     "text": [
      "HelloWorld\n"
     ]
    }
   ],
   "source": [
    "print(\"Hello\"+\"World\")"
   ]
  },
  {
   "cell_type": "markdown",
   "id": "2c7a3feb-981c-44d5-a8d8-6dfe3b354869",
   "metadata": {},
   "source": [
    "You can take number into string"
   ]
  },
  {
   "cell_type": "code",
   "execution_count": 5,
   "id": "25e13ba6-7a6e-4223-bc93-3f6f1aca1e27",
   "metadata": {},
   "outputs": [
    {
     "name": "stdout",
     "output_type": "stream",
     "text": [
      "pi is approximately 3.1400\n"
     ]
    }
   ],
   "source": [
    "some_num = 3.14\n",
    "str_w_num = \"pi is approximately %.4f\" %some_num\n",
    "\n",
    "print(str_w_num)"
   ]
  },
  {
   "cell_type": "markdown",
   "id": "4ae9ada3-ff29-4e08-9fe5-ccc3aa809629",
   "metadata": {},
   "source": [
    "Replace cersion element in the string"
   ]
  },
  {
   "cell_type": "code",
   "execution_count": 6,
   "id": "2357ae4a-0369-48dd-b4be-1b2a7ff098dc",
   "metadata": {},
   "outputs": [
    {
     "name": "stdout",
     "output_type": "stream",
     "text": [
      "pi is approximately 301400\n"
     ]
    }
   ],
   "source": [
    "str_w_num0 = str_w_num.replace(\".\",\"0\")\n",
    "\n",
    "print(str_w_num0)"
   ]
  },
  {
   "cell_type": "markdown",
   "id": "6b7c8bea-6633-416e-bb27-1d2a7e61876f",
   "metadata": {},
   "source": [
    "## Some control flow"
   ]
  },
  {
   "cell_type": "code",
   "execution_count": 11,
   "id": "17f0a622-0164-4413-b42e-98e2f06a1ab2",
   "metadata": {},
   "outputs": [
    {
     "name": "stdout",
     "output_type": "stream",
     "text": [
      "Number is an integer that's less than 10\n"
     ]
    }
   ],
   "source": [
    "number = 2\n",
    "\n",
    "if number==int(number) and number<10:\n",
    "    print(\"Number is an integer that's less than 10\")\n",
    "else:\n",
    "    print(\"Not!\")"
   ]
  },
  {
   "cell_type": "code",
   "execution_count": 12,
   "id": "f0a3d051-fd7a-43b2-bdae-abbf13ac02d8",
   "metadata": {},
   "outputs": [
    {
     "name": "stdout",
     "output_type": "stream",
     "text": [
      "0\n",
      "1\n",
      "2\n",
      "3\n",
      "4\n",
      "5\n",
      "6\n",
      "7\n"
     ]
    }
   ],
   "source": [
    "for i in range(8):\n",
    "    print(i)"
   ]
  },
  {
   "cell_type": "markdown",
   "id": "228c01f7-63c2-4bb0-bae9-f474afe10b40",
   "metadata": {},
   "source": [
    "## Functions"
   ]
  },
  {
   "cell_type": "code",
   "execution_count": 13,
   "id": "fc64f607-7714-43dc-a2e3-51029d5db47e",
   "metadata": {},
   "outputs": [
    {
     "name": "stdout",
     "output_type": "stream",
     "text": [
      "20\n"
     ]
    }
   ],
   "source": [
    "def fun(x):\n",
    "#     \n",
    "# \n",
    "    return 2*x\n",
    "\n",
    "print(fun(10))"
   ]
  },
  {
   "cell_type": "markdown",
   "id": "e3011dbf-8065-4b98-81a6-093ed762a504",
   "metadata": {},
   "source": [
    "Lambda function for one-line function definition"
   ]
  },
  {
   "cell_type": "code",
   "execution_count": 15,
   "id": "185a640f-aed9-4800-9d3e-643ec71d3e6a",
   "metadata": {},
   "outputs": [
    {
     "name": "stdout",
     "output_type": "stream",
     "text": [
      "5.0\n"
     ]
    }
   ],
   "source": [
    "half = lambda x : x/2\n",
    "\n",
    "print(half(10))"
   ]
  },
  {
   "cell_type": "code",
   "execution_count": null,
   "id": "8fb70128-c3ed-49f0-90c5-4cdcb55784e5",
   "metadata": {},
   "outputs": [],
   "source": []
  }
 ],
 "metadata": {
  "kernelspec": {
   "display_name": "Python 3 (ipykernel)",
   "language": "python",
   "name": "python3"
  },
  "language_info": {
   "codemirror_mode": {
    "name": "ipython",
    "version": 3
   },
   "file_extension": ".py",
   "mimetype": "text/x-python",
   "name": "python",
   "nbconvert_exporter": "python",
   "pygments_lexer": "ipython3",
   "version": "3.10.6"
  }
 },
 "nbformat": 4,
 "nbformat_minor": 5
}
