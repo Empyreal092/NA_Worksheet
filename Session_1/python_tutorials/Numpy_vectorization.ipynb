{
 "cells": [
  {
   "cell_type": "markdown",
   "id": "ddf9e5a1-206e-47d6-a006-b3b4ee3f6292",
   "metadata": {},
   "source": [
    "# Numpy and vectorization\n",
    "* [numpy documentation](https://numpy.org/doc/stable/reference/index.html)\n",
    "* [Array broadcasting](https://numpy.org/doc/stable/user/basics.broadcasting.html)"
   ]
  },
  {
   "cell_type": "code",
   "execution_count": 1,
   "id": "c45cd4c6-56b5-447d-8351-a4758ab775aa",
   "metadata": {},
   "outputs": [],
   "source": [
    "import numpy as np"
   ]
  },
  {
   "cell_type": "markdown",
   "id": "417c3f6e-9227-44c3-bb8b-b8350b3880f8",
   "metadata": {},
   "source": [
    "## Useful math functions"
   ]
  },
  {
   "cell_type": "code",
   "execution_count": 2,
   "id": "a7465acf-418c-44db-a04c-bfb15e1efaf2",
   "metadata": {},
   "outputs": [
    {
     "name": "stdout",
     "output_type": "stream",
     "text": [
      "2.718281828459045\n",
      "0.8660254037844386\n"
     ]
    }
   ],
   "source": [
    "print(np.exp(1))\n",
    "print(np.sin(np.pi/3))"
   ]
  },
  {
   "cell_type": "markdown",
   "id": "0b2b63f3-db85-439b-87bb-668d7cf3ff0e",
   "metadata": {},
   "source": [
    "## Making some arrays"
   ]
  },
  {
   "cell_type": "code",
   "execution_count": 13,
   "id": "3ad800e7-1597-4db7-8366-43c66959d987",
   "metadata": {},
   "outputs": [
    {
     "name": "stdout",
     "output_type": "stream",
     "text": [
      "[1. 1. 1. 1. 1.]\n"
     ]
    }
   ],
   "source": [
    "ones = np.ones(5)\n",
    "print(ones)"
   ]
  },
  {
   "cell_type": "code",
   "execution_count": 3,
   "id": "5c8d4914-07ce-47dc-b44b-5682e49801b5",
   "metadata": {},
   "outputs": [
    {
     "name": "stdout",
     "output_type": "stream",
     "text": [
      "[ 3  5  7  9 11 13 15 17 19 21 23 25 27 29]\n"
     ]
    }
   ],
   "source": [
    "odd = np.arange(3,31,2)\n",
    "print(odd)"
   ]
  },
  {
   "cell_type": "code",
   "execution_count": 4,
   "id": "0c821730-24e2-41cd-8fd6-a710172f9d97",
   "metadata": {},
   "outputs": [
    {
     "name": "stdout",
     "output_type": "stream",
     "text": [
      "[0.  0.1 0.2 0.3 0.4 0.5 0.6 0.7 0.8 0.9 1. ]\n"
     ]
    }
   ],
   "source": [
    "z2y = np.linspace(0, 1, 11)\n",
    "print(z2y)"
   ]
  },
  {
   "cell_type": "code",
   "execution_count": 5,
   "id": "90e2509c-fcbd-4714-be4b-7c62fb15101e",
   "metadata": {},
   "outputs": [
    {
     "name": "stdout",
     "output_type": "stream",
     "text": [
      "[[1 2 3]\n",
      " [4 5 6]]\n"
     ]
    }
   ],
   "source": [
    "ary_2D = np.array([[1, 2, 3], [4, 5, 6]])\n",
    "print(ary_2D)"
   ]
  },
  {
   "cell_type": "markdown",
   "id": "7c7f952e-ea46-46f8-9dc8-b8ed3f7efc9b",
   "metadata": {},
   "source": [
    "Random numbers"
   ]
  },
  {
   "cell_type": "code",
   "execution_count": 9,
   "id": "76889f5c-ceeb-41d2-a234-68bce2a8bb9d",
   "metadata": {},
   "outputs": [
    {
     "name": "stdout",
     "output_type": "stream",
     "text": [
      "[[ 2.0834725  -0.33008264  1.46663307]\n",
      " [-0.37787599 -1.11219928 -0.2113888 ]\n",
      " [-0.93974859 -0.48106454  0.58445781]]\n"
     ]
    }
   ],
   "source": [
    "rand_mat = np.random.normal(0, 1, size=(3,3))\n",
    "print(rand_mat)"
   ]
  },
  {
   "cell_type": "markdown",
   "id": "681bb91f-312e-4633-81c1-a5f9647740db",
   "metadata": {},
   "source": [
    "## Array indexing and slicing"
   ]
  },
  {
   "cell_type": "code",
   "execution_count": 14,
   "id": "5a52004d-24c2-4315-877f-aa98cfc98daf",
   "metadata": {},
   "outputs": [
    {
     "name": "stdout",
     "output_type": "stream",
     "text": [
      "[ 3  5  7  9 11 13 15 17 19 21 23 25 27 29]\n",
      "27\n",
      "[ 5  7  9 11 13 15 17 19 21]\n",
      "[ 5  9 13 17 21 25]\n"
     ]
    }
   ],
   "source": [
    "print(odd)\n",
    "print(odd[-2])\n",
    "print(odd[1:10])\n",
    "print(odd[1:-1:2])"
   ]
  },
  {
   "cell_type": "code",
   "execution_count": 15,
   "id": "8dd878ef-3aeb-41bb-b46a-15180d5bff73",
   "metadata": {},
   "outputs": [
    {
     "name": "stdout",
     "output_type": "stream",
     "text": [
      "[[ 2.0834725  -0.33008264  1.46663307]\n",
      " [-0.37787599 -1.11219928 -0.2113888 ]\n",
      " [-0.93974859 -0.48106454  0.58445781]]\n",
      "-1.1121992754996801\n",
      "[-0.37787599 -1.11219928 -0.2113888 ]\n"
     ]
    }
   ],
   "source": [
    "print(rand_mat)\n",
    "print(rand_mat[1,1])\n",
    "print(rand_mat[1,:])"
   ]
  },
  {
   "cell_type": "markdown",
   "id": "05a58d6c-479b-48c0-b3a3-3cada039f3f9",
   "metadata": {},
   "source": [
    "## Array attributes and method"
   ]
  },
  {
   "cell_type": "code",
   "execution_count": 40,
   "id": "d78f50ba-d532-49c0-8610-9448c72f1dda",
   "metadata": {},
   "outputs": [
    {
     "data": {
      "text/plain": [
       "(3, 3)"
      ]
     },
     "execution_count": 40,
     "metadata": {},
     "output_type": "execute_result"
    }
   ],
   "source": [
    "rand_mat.shape"
   ]
  },
  {
   "cell_type": "code",
   "execution_count": 41,
   "id": "53f8ca0c-f550-47cf-bdce-b021c27eb6c0",
   "metadata": {},
   "outputs": [
    {
     "data": {
      "text/plain": [
       "9"
      ]
     },
     "execution_count": 41,
     "metadata": {},
     "output_type": "execute_result"
    }
   ],
   "source": [
    "rand_mat.size"
   ]
  },
  {
   "cell_type": "code",
   "execution_count": null,
   "id": "055ea0ac-7671-4262-bd81-13c80000aa0d",
   "metadata": {},
   "outputs": [
    {
     "name": "stdout",
     "output_type": "stream",
     "text": [
      "[[1 2 3]\n",
      " [4 5 6]]\n",
      "[[1 4]\n",
      " [2 5]\n",
      " [3 6]]\n"
     ]
    }
   ],
   "source": [
    "# transpose\n",
    "\n",
    "print(ary_2D)\n",
    "print(ary_2D.T)"
   ]
  },
  {
   "cell_type": "code",
   "execution_count": 18,
   "id": "56b106e8-f94d-47ac-917c-6bbfb52ff755",
   "metadata": {},
   "outputs": [
    {
     "name": "stdout",
     "output_type": "stream",
     "text": [
      "[ 2.0834725  -0.33008264  1.46663307 -0.37787599 -1.11219928 -0.2113888\n",
      " -0.93974859 -0.48106454  0.58445781]\n"
     ]
    }
   ],
   "source": [
    "print(rand_mat.ravel())"
   ]
  },
  {
   "cell_type": "markdown",
   "id": "3c09e5ad-a9fb-4615-afe6-c1ac09f95001",
   "metadata": {},
   "source": [
    "## Array operations"
   ]
  },
  {
   "cell_type": "code",
   "execution_count": 19,
   "id": "f17d619e-9e13-44c1-84ac-afc62d77bb4c",
   "metadata": {},
   "outputs": [],
   "source": [
    "rand_mat_1 = np.random.normal(0, 1, size=(2,3))\n",
    "rand_mat_2 = np.random.normal(0, 1, size=(2,3))"
   ]
  },
  {
   "cell_type": "code",
   "execution_count": 20,
   "id": "46a32c55-1938-42e8-883c-c6a071423149",
   "metadata": {},
   "outputs": [
    {
     "name": "stdout",
     "output_type": "stream",
     "text": [
      "[[ 0.05977354  2.33212057  3.7291422 ]\n",
      " [ 1.20587948 -1.88274915  0.04751487]]\n"
     ]
    }
   ],
   "source": [
    "print(rand_mat_1+rand_mat_2)"
   ]
  },
  {
   "cell_type": "code",
   "execution_count": 21,
   "id": "1ff332c8-c68b-4bc6-b4cf-4ba5b3088ce2",
   "metadata": {},
   "outputs": [
    {
     "name": "stdout",
     "output_type": "stream",
     "text": [
      "[[-0.4488452   1.21911392  3.43584622]\n",
      " [ 0.30391829  0.6204603  -1.56250322]]\n"
     ]
    }
   ],
   "source": [
    "print(rand_mat_1*rand_mat_2)"
   ]
  },
  {
   "cell_type": "code",
   "execution_count": 23,
   "id": "03b3fbd5-ae82-43c9-b81e-f881e170e9e2",
   "metadata": {},
   "outputs": [
    {
     "name": "stdout",
     "output_type": "stream",
     "text": [
      "[[ 4.20611494  0.63899735]\n",
      " [-2.91887063 -0.63812463]]\n"
     ]
    }
   ],
   "source": [
    "print(rand_mat_1@rand_mat_2.T)"
   ]
  },
  {
   "cell_type": "code",
   "execution_count": 25,
   "id": "854e20fe-c208-48b4-9b7f-3118732db151",
   "metadata": {},
   "outputs": [
    {
     "name": "stdout",
     "output_type": "stream",
     "text": [
      "[-1.  1.]\n"
     ]
    }
   ],
   "source": [
    "a = np.array([[1, 2], [3, 5]])\n",
    "b = np.array([1, 2])\n",
    "x = np.linalg.solve(a, b)\n",
    "\n",
    "print(x)"
   ]
  },
  {
   "cell_type": "code",
   "execution_count": 26,
   "id": "0edf62c3-f648-4600-bf90-2f25d92540ec",
   "metadata": {},
   "outputs": [
    {
     "name": "stdout",
     "output_type": "stream",
     "text": [
      "[[1 2 3]\n",
      " [4 5 6]]\n",
      "[2. 5.]\n"
     ]
    }
   ],
   "source": [
    "print(ary_2D)\n",
    "print(ary_2D.mean(axis=1))"
   ]
  },
  {
   "cell_type": "markdown",
   "id": "fc0a33c8-465f-4922-a2fc-530fdefb6378",
   "metadata": {},
   "source": [
    "## Vectorized operations are much faster than loops!"
   ]
  },
  {
   "cell_type": "code",
   "execution_count": 28,
   "id": "c1ba2697-0df3-45e8-9e19-e7506c93aa77",
   "metadata": {},
   "outputs": [],
   "source": [
    "import time\n",
    "\n",
    "ary_1 = np.random.normal(0, 1, size=10000000)\n",
    "ary_2 = np.random.normal(0, 1, size=10000000)"
   ]
  },
  {
   "cell_type": "code",
   "execution_count": 29,
   "id": "181b4d80-6510-4e52-8673-4e737a6a656e",
   "metadata": {},
   "outputs": [
    {
     "name": "stdout",
     "output_type": "stream",
     "text": [
      "Result is: 1.797e+03\n",
      "Calculation took: 2.983e+00\n"
     ]
    }
   ],
   "source": [
    "dot_prod = 0\n",
    "\n",
    "t0 = time.time()\n",
    "\n",
    "for i in range(ary_1.size):\n",
    "    dot_prod += ary_1[i]*ary_2[i]\n",
    "\n",
    "t1 = time.time()\n",
    "print(\"Result is: %.3e\" %dot_prod)\n",
    "print(\"Calculation took: %.3e\" %(t1-t0))"
   ]
  },
  {
   "cell_type": "code",
   "execution_count": 30,
   "id": "55ef4733-ada4-4154-9e3a-06e88e02a35a",
   "metadata": {},
   "outputs": [
    {
     "name": "stdout",
     "output_type": "stream",
     "text": [
      "Result is: 1.797e+03\n",
      "Calculation took: 1.428e-02\n"
     ]
    }
   ],
   "source": [
    "t0 = time.time()\n",
    "\n",
    "dot_prod_vec = ary_1@ary_2.T\n",
    "\n",
    "t1 = time.time()\n",
    "print(\"Result is: %.3e\" %dot_prod_vec)\n",
    "print(\"Calculation took: %.3e\" %(t1-t0))"
   ]
  },
  {
   "cell_type": "markdown",
   "id": "af7c9273-e50c-46ba-b281-2969afaeb206",
   "metadata": {},
   "source": [
    "## Be mindful of shallow copy\n",
    "A common source of mistake, annoying to debug"
   ]
  },
  {
   "cell_type": "code",
   "execution_count": 73,
   "id": "e2acad7c-2c4c-47fb-a85a-1e7bd3e095a1",
   "metadata": {},
   "outputs": [
    {
     "name": "stdout",
     "output_type": "stream",
     "text": [
      "[1. 1. 1. 1. 1. 1. 1. 1. 1. 1.]\n"
     ]
    }
   ],
   "source": [
    "ary_1 = np.ones(10)\n",
    "print(ary_1)"
   ]
  },
  {
   "cell_type": "code",
   "execution_count": 75,
   "id": "4293741b-2174-452a-9733-c10ed6319aec",
   "metadata": {},
   "outputs": [
    {
     "name": "stdout",
     "output_type": "stream",
     "text": [
      "[ 1. 10.  1.  1.  1.  1.  1.  1.  1.  1.]\n",
      "[ 1. 10.  1.  1.  1.  1.  1.  1.  1.  1.]\n"
     ]
    }
   ],
   "source": [
    "ary_shallow = ary_1\n",
    "ary_shallow[1] = 10\n",
    "\n",
    "print(ary_shallow)\n",
    "print(ary_1)"
   ]
  },
  {
   "cell_type": "code",
   "execution_count": 76,
   "id": "826bfabe-b10b-4eaf-982a-a92e905dc09f",
   "metadata": {},
   "outputs": [
    {
     "name": "stdout",
     "output_type": "stream",
     "text": [
      "[ 1. 10.  1.  1.  1.  1.  1.  1.  1. 10.]\n",
      "[ 1. 10.  1.  1.  1.  1.  1.  1.  1.  1.]\n"
     ]
    }
   ],
   "source": [
    "ary_deep = np.copy(ary_1)\n",
    "ary_deep[-1] = 10\n",
    "\n",
    "print(ary_deep)\n",
    "print(ary_1)"
   ]
  },
  {
   "cell_type": "code",
   "execution_count": null,
   "id": "09ed367e-47ec-4e24-8f50-147b2684fb49",
   "metadata": {},
   "outputs": [],
   "source": []
  }
 ],
 "metadata": {
  "kernelspec": {
   "display_name": "Python 3 (ipykernel)",
   "language": "python",
   "name": "python3"
  },
  "language_info": {
   "codemirror_mode": {
    "name": "ipython",
    "version": 3
   },
   "file_extension": ".py",
   "mimetype": "text/x-python",
   "name": "python",
   "nbconvert_exporter": "python",
   "pygments_lexer": "ipython3",
   "version": "3.10.6"
  }
 },
 "nbformat": 4,
 "nbformat_minor": 5
}
