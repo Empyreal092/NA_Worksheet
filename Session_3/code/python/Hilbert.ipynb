{
 "cells": [
  {
   "cell_type": "code",
   "execution_count": 1,
   "id": "3c6f0eb2-62ba-4cd6-81c9-9a882e617b1c",
   "metadata": {},
   "outputs": [],
   "source": [
    "import numpy as np\n",
    "import time\n",
    "import matplotlib.pyplot as plt"
   ]
  },
  {
   "cell_type": "code",
   "execution_count": 5,
   "id": "21d517be-7010-4af7-819e-6ce1490adec6",
   "metadata": {},
   "outputs": [],
   "source": [
    "n = 3\n",
    "\n",
    "A = np.empty((n,n))\n",
    "\n",
    "for i in range(n):\n",
    "    for j in range(n):\n",
    "        A[i,j] = 1/((i+1)+(j+1)-1)"
   ]
  },
  {
   "cell_type": "code",
   "execution_count": 6,
   "id": "d6251af8-75c7-413e-aa48-0245f9bd3847",
   "metadata": {},
   "outputs": [
    {
     "data": {
      "text/plain": [
       "array([[1.        , 0.5       , 0.33333333],\n",
       "       [0.5       , 0.33333333, 0.25      ],\n",
       "       [0.33333333, 0.25      , 0.2       ]])"
      ]
     },
     "execution_count": 6,
     "metadata": {},
     "output_type": "execute_result"
    }
   ],
   "source": [
    "A"
   ]
  },
  {
   "cell_type": "code",
   "execution_count": 15,
   "id": "fb7bd42d-a5d9-4ad3-b7e1-49d998f9ccd6",
   "metadata": {},
   "outputs": [],
   "source": [
    "n_ary = np.array([3,5,10,20,25])\n",
    "cond_2_ary = np.empty(n_ary.size)\n",
    "\n",
    "for ni in range(n_ary.size):\n",
    "    n = n_ary[ni]\n",
    "    \n",
    "    A = np.empty((n,n))\n",
    "\n",
    "    for i in range(n):\n",
    "        for j in range(n):\n",
    "            A[i,j] = 1/((i+1)+(j+1)-1)\n",
    "    \n",
    "    cond_2 = np.linalg.cond(A, 2)\n",
    "    \n",
    "    cond_2_ary[ni] = cond_2"
   ]
  },
  {
   "cell_type": "code",
   "execution_count": 16,
   "id": "624fb612-8d52-4d2d-b37b-c34dc81b50bd",
   "metadata": {},
   "outputs": [
    {
     "data": {
      "text/plain": [
       "array([5.24056778e+02, 4.76607250e+05, 1.60244170e+13, 1.14840204e+18,\n",
       "       1.33091975e+18])"
      ]
     },
     "execution_count": 16,
     "metadata": {},
     "output_type": "execute_result"
    }
   ],
   "source": [
    "cond_2_ary"
   ]
  },
  {
   "cell_type": "code",
   "execution_count": null,
   "id": "61f5b0bd-ba9f-4e7a-8818-ec4c808351fe",
   "metadata": {},
   "outputs": [],
   "source": []
  }
 ],
 "metadata": {
  "kernelspec": {
   "display_name": "Python 3 (ipykernel)",
   "language": "python",
   "name": "python3"
  },
  "language_info": {
   "codemirror_mode": {
    "name": "ipython",
    "version": 3
   },
   "file_extension": ".py",
   "mimetype": "text/x-python",
   "name": "python",
   "nbconvert_exporter": "python",
   "pygments_lexer": "ipython3",
   "version": "3.10.6"
  }
 },
 "nbformat": 4,
 "nbformat_minor": 5
}
