{
 "cells": [
  {
   "cell_type": "code",
   "execution_count": 6,
   "id": "89a3b22e-7da8-4288-a228-037963980953",
   "metadata": {},
   "outputs": [],
   "source": [
    "import numpy as np\n",
    "import matplotlib.pyplot as plt"
   ]
  },
  {
   "cell_type": "code",
   "execution_count": 10,
   "id": "59044526-ec9b-455f-b5dc-66b9d4d049c2",
   "metadata": {},
   "outputs": [],
   "source": [
    "x = np.array([0,1/2,1])\n",
    "f = np.exp(3*x)"
   ]
  },
  {
   "cell_type": "code",
   "execution_count": 11,
   "id": "9169a682-2f5c-4e01-973a-7300581c6642",
   "metadata": {},
   "outputs": [
    {
     "name": "stdout",
     "output_type": "stream",
     "text": [
      "[ 1.          4.48168907 20.08553692]\n"
     ]
    }
   ],
   "source": [
    "print(f)"
   ]
  },
  {
   "cell_type": "code",
   "execution_count": 13,
   "id": "ae13c868-4215-42bc-9d84-fef61855123f",
   "metadata": {},
   "outputs": [],
   "source": [
    "mat = np.array([[0,0,1],\n",
    "               [1/4,1/2,1],\n",
    "               [1,1,1]])\n",
    "\n",
    "a_ary = np.linalg.solve(mat,f)"
   ]
  },
  {
   "cell_type": "code",
   "execution_count": 14,
   "id": "493c7c82-eb76-4165-a67b-529e8b052e3c",
   "metadata": {},
   "outputs": [
    {
     "data": {
      "text/plain": [
       "array([24.24431757, -5.15878064,  1.        ])"
      ]
     },
     "execution_count": 14,
     "metadata": {},
     "output_type": "execute_result"
    }
   ],
   "source": [
    "a_ary"
   ]
  },
  {
   "cell_type": "code",
   "execution_count": 27,
   "id": "783c33ec-a5b6-482c-9e0b-15b619f2238e",
   "metadata": {},
   "outputs": [],
   "source": [
    "p2 = lambda x : a_ary[0]*x**2+a_ary[1]*x+a_ary[2]\n",
    "func = lambda x : np.exp(3*x)"
   ]
  },
  {
   "cell_type": "code",
   "execution_count": 42,
   "id": "78beb682-b4f0-426c-94d5-dece21f92355",
   "metadata": {},
   "outputs": [
    {
     "data": {
      "text/plain": [
       "10.768343148948922"
      ]
     },
     "execution_count": 42,
     "metadata": {},
     "output_type": "execute_result"
    }
   ],
   "source": [
    "p2(3/4)"
   ]
  },
  {
   "cell_type": "code",
   "execution_count": 25,
   "id": "949c4f6b-fb38-440b-86e4-f15d0f7184a0",
   "metadata": {},
   "outputs": [],
   "source": [
    "x_plot = np.linspace(-0.5,1.5,100)"
   ]
  },
  {
   "cell_type": "code",
   "execution_count": 30,
   "id": "e230ba65-a039-4398-8acd-c6e7fad186b2",
   "metadata": {},
   "outputs": [
    {
     "data": {
      "text/plain": [
       "[<matplotlib.lines.Line2D at 0x7f57e7f23460>]"
      ]
     },
     "execution_count": 30,
     "metadata": {},
     "output_type": "execute_result"
    },
    {
     "data": {
      "image/png": "[encoded data removed]",
      "text/plain": [
       "<Figure size 640x480 with 1 Axes>"
      ]
     },
     "metadata": {},
     "output_type": "display_data"
    }
   ],
   "source": [
    "plt.plot(x_plot,func(x_plot))\n",
    "plt.plot(x_plot,p2(x_plot))"
   ]
  },
  {
   "cell_type": "code",
   "execution_count": 33,
   "id": "2303d6eb-c141-4667-8bcd-1ad9a1ed8180",
   "metadata": {},
   "outputs": [
    {
     "name": "stdout",
     "output_type": "stream",
     "text": [
      "1.280607312590396\n"
     ]
    }
   ],
   "source": [
    "err = abs(func(3/4)-p2(3/4))\n",
    "\n",
    "print(err)"
   ]
  },
  {
   "cell_type": "code",
   "execution_count": 38,
   "id": "ae3473ec-4cdc-4641-8706-9898ab22ead5",
   "metadata": {},
   "outputs": [
    {
     "data": {
      "text/plain": [
       "4.236792944734899"
      ]
     },
     "execution_count": 38,
     "metadata": {},
     "output_type": "execute_result"
    }
   ],
   "source": [
    "abs(27*np.exp(3)/(3*2*1)*(3/4-0)*(3/4-1/2)*(3/4-1))"
   ]
  },
  {
   "cell_type": "code",
   "execution_count": null,
   "id": "58edfa2c-4af0-4d7d-907f-d0a6a811f3ce",
   "metadata": {},
   "outputs": [],
   "source": []
  }
 ],
 "metadata": {
  "kernelspec": {
   "display_name": "Python 3 (ipykernel)",
   "language": "python",
   "name": "python3"
  },
  "language_info": {
   "codemirror_mode": {
    "name": "ipython",
    "version": 3
   },
   "file_extension": ".py",
   "mimetype": "text/x-python",
   "name": "python",
   "nbconvert_exporter": "python",
   "pygments_lexer": "ipython3",
   "version": "3.10.6"
  }
 },
 "nbformat": 4,
 "nbformat_minor": 5
}
